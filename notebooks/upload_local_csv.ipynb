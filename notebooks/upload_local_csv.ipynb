{
 "cells": [
  {
   "cell_type": "code",
   "execution_count": 228,
   "id": "d2dd7ed3",
   "metadata": {},
   "outputs": [
    {
     "data": {
      "text/plain": [
       "True"
      ]
     },
     "execution_count": 228,
     "metadata": {},
     "output_type": "execute_result"
    }
   ],
   "source": [
    "import sqlalchemy\n",
    "import pandas as pd\n",
    "import os\n",
    "import dotenv\n",
    "import json\n",
    "import numpy as np\n",
    "import csv\n",
    "#import tablib\n",
    "dotenv.load_dotenv('../.env')"
   ]
  },
  {
   "cell_type": "code",
   "execution_count": 36,
   "id": "dc524eef",
   "metadata": {},
   "outputs": [],
   "source": [
    "#!pip install python_dotenv\n",
    "#!pip install psycopg2-binary"
   ]
  },
  {
   "cell_type": "code",
   "execution_count": 37,
   "id": "d470daec",
   "metadata": {},
   "outputs": [],
   "source": [
    "user = os.environ['DB_USERNAME']\n",
    "pw = os.environ['DB_PASSWORD']\n",
    "host = os.environ['DB_HOST'] \n",
    "db_url = f'postgresql://{user}:{pw}@{host}:5432'\n",
    "engine = sqlalchemy.create_engine(db_url)"
   ]
  },
  {
   "cell_type": "code",
   "execution_count": 265,
   "id": "430e98b0",
   "metadata": {},
   "outputs": [],
   "source": [
    "def parse_csv_flipside(filepath):\n",
    "    with open(filepath, newline='\\n') as csvfile:\n",
    "        spamreader = csv.reader(csvfile, delimiter=',', quotechar=\"'\")\n",
    "        #for row in spamreader:\n",
    "        #    print(', '.join(row))\n",
    "        items = []\n",
    "        rows = []\n",
    "        for row in spamreader:\n",
    "            rows.append(row)\n",
    "            final_items = []\n",
    "            temp_items = []\n",
    "            num_opens = 0\n",
    "            for i in row:\n",
    "                if '{' in i:\n",
    "                    #print ('open')\n",
    "                    num_opens += 1\n",
    "                    temp_items.append(i)\n",
    "                elif num_opens == 0:\n",
    "                    # simply append\n",
    "                    final_items.append(i)\n",
    "                \n",
    "                elif '}' in i:\n",
    "                    temp_items.append(i)\n",
    "                    num_opens -= 1\n",
    "                    if num_opens == 0:\n",
    "                        #print ('close')\n",
    "                        final_items.append(','.join(temp_items))\n",
    "                        temp_items = []                    \n",
    "                elif num_opens > 0:\n",
    "                    temp_items.append(i)\n",
    "            items.append(final_items)  \n",
    "            #print (len(row))\n",
    "            #print (row)\n",
    "    #df = pd.DataFrame.from_records(items[1:], columns=items[0])\n",
    "    #return df\n",
    "    return items, rows"
   ]
  },
  {
   "cell_type": "code",
   "execution_count": 266,
   "id": "72a29dad",
   "metadata": {},
   "outputs": [],
   "source": [
    "items, rows = parse_csv_flipside('../data/sudoswap_trades.csv')"
   ]
  },
  {
   "cell_type": "code",
   "execution_count": 267,
   "id": "9f68617b",
   "metadata": {},
   "outputs": [
    {
     "data": {
      "text/plain": [
       "{29, 30}"
      ]
     },
     "execution_count": 267,
     "metadata": {},
     "output_type": "execute_result"
    }
   ],
   "source": [
    "sizes=[]\n",
    "for i in items:\n",
    "    sizes.append(len(i))\n",
    "set(sizes)"
   ]
  },
  {
   "cell_type": "code",
   "execution_count": 270,
   "id": "054bb8d3",
   "metadata": {},
   "outputs": [
    {
     "data": {
      "text/plain": [
       "(99999, 29)"
      ]
     },
     "execution_count": 270,
     "metadata": {},
     "output_type": "execute_result"
    }
   ],
   "source": [
    "df = pd.DataFrame.from_records([i for i in items[1:] if len(i)==29], columns=items[0])\n",
    "df.shape"
   ]
  },
  {
   "cell_type": "code",
   "execution_count": 271,
   "id": "39acdb1f",
   "metadata": {},
   "outputs": [
    {
     "data": {
      "text/html": [
       "<div>\n",
       "<style scoped>\n",
       "    .dataframe tbody tr th:only-of-type {\n",
       "        vertical-align: middle;\n",
       "    }\n",
       "\n",
       "    .dataframe tbody tr th {\n",
       "        vertical-align: top;\n",
       "    }\n",
       "\n",
       "    .dataframe thead th {\n",
       "        text-align: right;\n",
       "    }\n",
       "</style>\n",
       "<table border=\"1\" class=\"dataframe\">\n",
       "  <thead>\n",
       "    <tr style=\"text-align: right;\">\n",
       "      <th></th>\n",
       "      <th>BLOCK_NUMBER</th>\n",
       "      <th>BLOCK_TIMESTAMP</th>\n",
       "      <th>TX_HASH</th>\n",
       "      <th>EVENT_TYPE</th>\n",
       "      <th>PLATFORM_ADDRESS</th>\n",
       "      <th>PLATFORM_NAME</th>\n",
       "      <th>PLATFORM_EXCHANGE_VERSION</th>\n",
       "      <th>SELLER_ADDRESS</th>\n",
       "      <th>BUYER_ADDRESS</th>\n",
       "      <th>NFT_ADDRESS</th>\n",
       "      <th>...</th>\n",
       "      <th>PLATFORM_FEE</th>\n",
       "      <th>CREATOR_FEE</th>\n",
       "      <th>TOTAL_FEES_USD</th>\n",
       "      <th>PLATFORM_FEE_USD</th>\n",
       "      <th>CREATOR_FEE_USD</th>\n",
       "      <th>TX_FEE</th>\n",
       "      <th>TX_FEE_USD</th>\n",
       "      <th>ORIGIN_FROM_ADDRESS</th>\n",
       "      <th>ORIGIN_TO_ADDRESS</th>\n",
       "      <th>ORIGIN_FUNCTION_SIGNATURE</th>\n",
       "    </tr>\n",
       "  </thead>\n",
       "  <tbody>\n",
       "    <tr>\n",
       "      <th>0</th>\n",
       "      <td>15402821</td>\n",
       "      <td>2022-08-24 12:05:29.000</td>\n",
       "      <td>0x528679d7330183d263cb4ce40e87c9e1df69a81182d3...</td>\n",
       "      <td>sale</td>\n",
       "      <td>0x2b2e8cda09bba9660dca5cb6233787738ad68329</td>\n",
       "      <td>sudoswap</td>\n",
       "      <td>pair router</td>\n",
       "      <td>0x82c84d9c3d125c6e3448e21b1e838c0448f04c2f</td>\n",
       "      <td>0xe48a1a831e2634bddd53550b711613b64ac1a4b3</td>\n",
       "      <td>0xf10a71e53398bf4e3cf5e2a0cad3c529ad19b834</td>\n",
       "      <td>...</td>\n",
       "      <td>0.0003011623341</td>\n",
       "      <td>0</td>\n",
       "      <td>null</td>\n",
       "      <td>null</td>\n",
       "      <td>0</td>\n",
       "      <td>0.001272257325</td>\n",
       "      <td>null</td>\n",
       "      <td>0xe48a1a831e2634bddd53550b711613b64ac1a4b3</td>\n",
       "      <td>0x2b2e8cda09bba9660dca5cb6233787738ad68329</td>\n",
       "      <td>0x11132000</td>\n",
       "    </tr>\n",
       "    <tr>\n",
       "      <th>1</th>\n",
       "      <td>15402817</td>\n",
       "      <td>2022-08-24 12:04:32.000</td>\n",
       "      <td>0x6f45cb2d4a84459da38ae55c606bb671dfbc7ad1a1e4...</td>\n",
       "      <td>sale</td>\n",
       "      <td>0x2b2e8cda09bba9660dca5cb6233787738ad68329</td>\n",
       "      <td>sudoswap</td>\n",
       "      <td>pair router</td>\n",
       "      <td>0x82c84d9c3d125c6e3448e21b1e838c0448f04c2f</td>\n",
       "      <td>0xab63b1925aeef953808094486e8c65c6eb537f85</td>\n",
       "      <td>0xf10a71e53398bf4e3cf5e2a0cad3c529ad19b834</td>\n",
       "      <td>...</td>\n",
       "      <td>0.0002999624842</td>\n",
       "      <td>0</td>\n",
       "      <td>null</td>\n",
       "      <td>null</td>\n",
       "      <td>0</td>\n",
       "      <td>0.001076106638</td>\n",
       "      <td>null</td>\n",
       "      <td>0xab63b1925aeef953808094486e8c65c6eb537f85</td>\n",
       "      <td>0x2b2e8cda09bba9660dca5cb6233787738ad68329</td>\n",
       "      <td>0x11132000</td>\n",
       "    </tr>\n",
       "    <tr>\n",
       "      <th>2</th>\n",
       "      <td>15402806</td>\n",
       "      <td>2022-08-24 12:02:43.000</td>\n",
       "      <td>0x4c1604e119618a01c4947117b4931f7580ae7a687424...</td>\n",
       "      <td>sale</td>\n",
       "      <td>0x2b2e8cda09bba9660dca5cb6233787738ad68329</td>\n",
       "      <td>sudoswap</td>\n",
       "      <td>pair router</td>\n",
       "      <td>0x3258128a48fc9db1886e953fcf4d70f67fb953c9</td>\n",
       "      <td>0x6cf9380f5e1a38e3b4c5101c1aa0211603fec13f</td>\n",
       "      <td>0xf10a71e53398bf4e3cf5e2a0cad3c529ad19b834</td>\n",
       "      <td>...</td>\n",
       "      <td>0.009049751244</td>\n",
       "      <td>0</td>\n",
       "      <td>null</td>\n",
       "      <td>null</td>\n",
       "      <td>0</td>\n",
       "      <td>0.001156168451</td>\n",
       "      <td>null</td>\n",
       "      <td>0x6cf9380f5e1a38e3b4c5101c1aa0211603fec13f</td>\n",
       "      <td>0x2b2e8cda09bba9660dca5cb6233787738ad68329</td>\n",
       "      <td>0x11132000</td>\n",
       "    </tr>\n",
       "    <tr>\n",
       "      <th>3</th>\n",
       "      <td>15402806</td>\n",
       "      <td>2022-08-24 12:02:43.000</td>\n",
       "      <td>0x3c9a01ffcf57cf3b34db3310c3463a1765da0ba4c2a2...</td>\n",
       "      <td>sale</td>\n",
       "      <td>0x2b2e8cda09bba9660dca5cb6233787738ad68329</td>\n",
       "      <td>sudoswap</td>\n",
       "      <td>pair router</td>\n",
       "      <td>0xf6f19d0c489b53f6d9b73523127679965f5e0afb</td>\n",
       "      <td>0xfdb634527b50da38dddd673059a25667bab7cd62</td>\n",
       "      <td>0x932261f9fc8da46c4a22e31b45c4de60623848bf</td>\n",
       "      <td>...</td>\n",
       "      <td>0.001431228702</td>\n",
       "      <td>0</td>\n",
       "      <td>null</td>\n",
       "      <td>null</td>\n",
       "      <td>0</td>\n",
       "      <td>0.000999888</td>\n",
       "      <td>null</td>\n",
       "      <td>0xfdb634527b50da38dddd673059a25667bab7cd62</td>\n",
       "      <td>0x2b2e8cda09bba9660dca5cb6233787738ad68329</td>\n",
       "      <td>0x11132000</td>\n",
       "    </tr>\n",
       "    <tr>\n",
       "      <th>4</th>\n",
       "      <td>15402801</td>\n",
       "      <td>2022-08-24 12:02:04.000</td>\n",
       "      <td>0x51f666e3f8f96f844f913f2739426538c9b1bb3d5ce0...</td>\n",
       "      <td>sale</td>\n",
       "      <td>0x2b2e8cda09bba9660dca5cb6233787738ad68329</td>\n",
       "      <td>sudoswap</td>\n",
       "      <td>pair router</td>\n",
       "      <td>0x82c84d9c3d125c6e3448e21b1e838c0448f04c2f</td>\n",
       "      <td>0x048f8073d361def400b483bcb4b7761d7be8507a</td>\n",
       "      <td>0xf10a71e53398bf4e3cf5e2a0cad3c529ad19b834</td>\n",
       "      <td>...</td>\n",
       "      <td>0.0002987674145</td>\n",
       "      <td>0</td>\n",
       "      <td>null</td>\n",
       "      <td>null</td>\n",
       "      <td>0</td>\n",
       "      <td>0.001630438447</td>\n",
       "      <td>null</td>\n",
       "      <td>0x048f8073d361def400b483bcb4b7761d7be8507a</td>\n",
       "      <td>0x2b2e8cda09bba9660dca5cb6233787738ad68329</td>\n",
       "      <td>0x11132000</td>\n",
       "    </tr>\n",
       "  </tbody>\n",
       "</table>\n",
       "<p>5 rows × 29 columns</p>\n",
       "</div>"
      ],
      "text/plain": [
       "  BLOCK_NUMBER          BLOCK_TIMESTAMP  \\\n",
       "0     15402821  2022-08-24 12:05:29.000   \n",
       "1     15402817  2022-08-24 12:04:32.000   \n",
       "2     15402806  2022-08-24 12:02:43.000   \n",
       "3     15402806  2022-08-24 12:02:43.000   \n",
       "4     15402801  2022-08-24 12:02:04.000   \n",
       "\n",
       "                                             TX_HASH EVENT_TYPE  \\\n",
       "0  0x528679d7330183d263cb4ce40e87c9e1df69a81182d3...       sale   \n",
       "1  0x6f45cb2d4a84459da38ae55c606bb671dfbc7ad1a1e4...       sale   \n",
       "2  0x4c1604e119618a01c4947117b4931f7580ae7a687424...       sale   \n",
       "3  0x3c9a01ffcf57cf3b34db3310c3463a1765da0ba4c2a2...       sale   \n",
       "4  0x51f666e3f8f96f844f913f2739426538c9b1bb3d5ce0...       sale   \n",
       "\n",
       "                             PLATFORM_ADDRESS PLATFORM_NAME  \\\n",
       "0  0x2b2e8cda09bba9660dca5cb6233787738ad68329      sudoswap   \n",
       "1  0x2b2e8cda09bba9660dca5cb6233787738ad68329      sudoswap   \n",
       "2  0x2b2e8cda09bba9660dca5cb6233787738ad68329      sudoswap   \n",
       "3  0x2b2e8cda09bba9660dca5cb6233787738ad68329      sudoswap   \n",
       "4  0x2b2e8cda09bba9660dca5cb6233787738ad68329      sudoswap   \n",
       "\n",
       "  PLATFORM_EXCHANGE_VERSION                              SELLER_ADDRESS  \\\n",
       "0               pair router  0x82c84d9c3d125c6e3448e21b1e838c0448f04c2f   \n",
       "1               pair router  0x82c84d9c3d125c6e3448e21b1e838c0448f04c2f   \n",
       "2               pair router  0x3258128a48fc9db1886e953fcf4d70f67fb953c9   \n",
       "3               pair router  0xf6f19d0c489b53f6d9b73523127679965f5e0afb   \n",
       "4               pair router  0x82c84d9c3d125c6e3448e21b1e838c0448f04c2f   \n",
       "\n",
       "                                BUYER_ADDRESS  \\\n",
       "0  0xe48a1a831e2634bddd53550b711613b64ac1a4b3   \n",
       "1  0xab63b1925aeef953808094486e8c65c6eb537f85   \n",
       "2  0x6cf9380f5e1a38e3b4c5101c1aa0211603fec13f   \n",
       "3  0xfdb634527b50da38dddd673059a25667bab7cd62   \n",
       "4  0x048f8073d361def400b483bcb4b7761d7be8507a   \n",
       "\n",
       "                                  NFT_ADDRESS  ...     PLATFORM_FEE  \\\n",
       "0  0xf10a71e53398bf4e3cf5e2a0cad3c529ad19b834  ...  0.0003011623341   \n",
       "1  0xf10a71e53398bf4e3cf5e2a0cad3c529ad19b834  ...  0.0002999624842   \n",
       "2  0xf10a71e53398bf4e3cf5e2a0cad3c529ad19b834  ...   0.009049751244   \n",
       "3  0x932261f9fc8da46c4a22e31b45c4de60623848bf  ...   0.001431228702   \n",
       "4  0xf10a71e53398bf4e3cf5e2a0cad3c529ad19b834  ...  0.0002987674145   \n",
       "\n",
       "  CREATOR_FEE TOTAL_FEES_USD PLATFORM_FEE_USD CREATOR_FEE_USD          TX_FEE  \\\n",
       "0           0           null             null               0  0.001272257325   \n",
       "1           0           null             null               0  0.001076106638   \n",
       "2           0           null             null               0  0.001156168451   \n",
       "3           0           null             null               0     0.000999888   \n",
       "4           0           null             null               0  0.001630438447   \n",
       "\n",
       "  TX_FEE_USD                         ORIGIN_FROM_ADDRESS  \\\n",
       "0       null  0xe48a1a831e2634bddd53550b711613b64ac1a4b3   \n",
       "1       null  0xab63b1925aeef953808094486e8c65c6eb537f85   \n",
       "2       null  0x6cf9380f5e1a38e3b4c5101c1aa0211603fec13f   \n",
       "3       null  0xfdb634527b50da38dddd673059a25667bab7cd62   \n",
       "4       null  0x048f8073d361def400b483bcb4b7761d7be8507a   \n",
       "\n",
       "                            ORIGIN_TO_ADDRESS ORIGIN_FUNCTION_SIGNATURE  \n",
       "0  0x2b2e8cda09bba9660dca5cb6233787738ad68329                0x11132000  \n",
       "1  0x2b2e8cda09bba9660dca5cb6233787738ad68329                0x11132000  \n",
       "2  0x2b2e8cda09bba9660dca5cb6233787738ad68329                0x11132000  \n",
       "3  0x2b2e8cda09bba9660dca5cb6233787738ad68329                0x11132000  \n",
       "4  0x2b2e8cda09bba9660dca5cb6233787738ad68329                0x11132000  \n",
       "\n",
       "[5 rows x 29 columns]"
      ]
     },
     "execution_count": 271,
     "metadata": {},
     "output_type": "execute_result"
    }
   ],
   "source": [
    "df.head()"
   ]
  },
  {
   "cell_type": "code",
   "execution_count": 279,
   "id": "58197662",
   "metadata": {},
   "outputs": [
    {
     "data": {
      "text/plain": [
       "826"
      ]
     },
     "execution_count": 279,
     "metadata": {},
     "output_type": "execute_result"
    }
   ],
   "source": [
    "# store df\n",
    "df = df.drop_duplicates(subset=['TX_HASH','BLOCK_NUMBER'], keep='first')\n",
    "df.to_sql('sudoswap_trades', engine, if_exists='replace')"
   ]
  },
  {
   "cell_type": "code",
   "execution_count": 274,
   "id": "70e50b8e",
   "metadata": {},
   "outputs": [
    {
     "data": {
      "text/plain": [
       "0xf87b06d588f3ea03865dd4f9d23974284caf466150169069fe4047d535c4748a    447\n",
       "0x97cb60b0dad02d8ef2900f2cec041022faa4407dcb3e0a05e672d83f8cae1a3a    300\n",
       "0xa454990b3ce85783a68b9ebeb4e610819e32ccecc4f7c311ca233ed764538e7b    216\n",
       "0x95a0fe2e263f1dfee9af0bb020fc3236a5d4b9a900c49f89aceeffbffabcabdd    208\n",
       "0x28acdcad8d9a1409b64b67006c1366cbaa8387155283bfe677f0a38cd913b88c    201\n",
       "                                                                     ... \n",
       "0xaf97e0f88d1f2b281b02bb8772918d1a7081492df3e0dac5f7e1f6460f61918f      1\n",
       "0x9f7ae32a5adb7f39a0f93c93e26b0610a51730e78bd6b4eef4cfb722ab884382      1\n",
       "0xf21b12e15cede7f9f9b6d3aa892eb091a2e0d92026d1d1d4a04ff65ff65c9711      1\n",
       "0x9b5dc411d9b34aa68d9e413c456839fe9b4c45b4424cf8ef6611295872561217      1\n",
       "0x94993efc49b4d2b2713654da7e2e4cf1380e34609f63b1d9ff1a98466b999bda      1\n",
       "Name: TX_HASH, Length: 41826, dtype: int64"
      ]
     },
     "execution_count": 274,
     "metadata": {},
     "output_type": "execute_result"
    }
   ],
   "source": [
    "df.TX_HASH.value_counts()"
   ]
  },
  {
   "cell_type": "code",
   "execution_count": 278,
   "id": "b5d2836e",
   "metadata": {},
   "outputs": [
    {
     "data": {
      "text/plain": [
       "(41826, 29)"
      ]
     },
     "execution_count": 278,
     "metadata": {},
     "output_type": "execute_result"
    }
   ],
   "source": [
    "df.drop_duplicates(subset=['TX_HASH','BLOCK_NUMBER'], keep='first').shape"
   ]
  },
  {
   "cell_type": "code",
   "execution_count": null,
   "id": "b55c692b",
   "metadata": {},
   "outputs": [],
   "source": []
  }
 ],
 "metadata": {
  "kernelspec": {
   "display_name": "Python 3 (ipykernel)",
   "language": "python",
   "name": "python3"
  },
  "language_info": {
   "codemirror_mode": {
    "name": "ipython",
    "version": 3
   },
   "file_extension": ".py",
   "mimetype": "text/x-python",
   "name": "python",
   "nbconvert_exporter": "python",
   "pygments_lexer": "ipython3",
   "version": "3.9.12"
  }
 },
 "nbformat": 4,
 "nbformat_minor": 5
}
