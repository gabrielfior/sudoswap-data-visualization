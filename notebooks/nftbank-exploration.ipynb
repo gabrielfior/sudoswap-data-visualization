{
 "cells": [
  {
   "cell_type": "code",
   "execution_count": 74,
   "id": "8ccbe6de",
   "metadata": {},
   "outputs": [
    {
     "data": {
      "text/plain": [
       "True"
      ]
     },
     "execution_count": 74,
     "metadata": {},
     "output_type": "execute_result"
    }
   ],
   "source": [
    "import requests\n",
    "import os\n",
    "import pandas as pd\n",
    "import numpy as np\n",
    "import datetime\n",
    "import matplotlib.pyplot as plt\n",
    "from pycoingecko import CoinGeckoAPI\n",
    "import dotenv\n",
    "dotenv.load_dotenv('../.env')"
   ]
  },
  {
   "cell_type": "code",
   "execution_count": 2,
   "id": "f082a86a",
   "metadata": {},
   "outputs": [
    {
     "data": {
      "text/plain": [
       "'\\ncurl -i -H    \"https://api.nftbank.ai/v3/estimated-price/ethereum/0xBC4CA0EdA7647A8aB7C2061c2E118A18a936f13D/1?\\n  start_date=2022-05-20&end_date=2022-06-07\"\\n  '"
      ]
     },
     "execution_count": 2,
     "metadata": {},
     "output_type": "execute_result"
    }
   ],
   "source": [
    "'''\n",
    "curl -i -H  \\\n",
    "  \"https://api.nftbank.ai/v3/estimated-price/ethereum/0xBC4CA0EdA7647A8aB7C2061c2E118A18a936f13D/1?\n",
    "  start_date=2022-05-20&end_date=2022-06-07\"\n",
    "  '''"
   ]
  },
  {
   "cell_type": "code",
   "execution_count": 3,
   "id": "7105ae26",
   "metadata": {},
   "outputs": [],
   "source": [
    "NFTBANK_URL='https://api.nftbank.ai/v3/estimated-price/ethereum/{}/1'"
   ]
  },
  {
   "cell_type": "code",
   "execution_count": 4,
   "id": "cff93dbe",
   "metadata": {},
   "outputs": [],
   "source": [
    "nft_address = '0xdbf40a5b96c69327ae871f24ad26b16afc40bb0a'\n",
    "r = requests.get(NFTBANK_URL.format(nft_address), headers={\"x-api-key\": os.environ['NFTBANK_API_KEY']})"
   ]
  },
  {
   "cell_type": "code",
   "execution_count": 5,
   "id": "b478e8d5",
   "metadata": {},
   "outputs": [
    {
     "data": {
      "text/plain": [
       "'{\"data\":[],\"message\":\"OK\",\"statusCode\":20000}\\n'"
      ]
     },
     "execution_count": 5,
     "metadata": {},
     "output_type": "execute_result"
    }
   ],
   "source": [
    "r.text"
   ]
  },
  {
   "cell_type": "code",
   "execution_count": 6,
   "id": "e23ee568",
   "metadata": {},
   "outputs": [
    {
     "data": {
      "text/plain": [
       "'73dd214b24cdcd200af56c342705d4cd'"
      ]
     },
     "execution_count": 6,
     "metadata": {},
     "output_type": "execute_result"
    }
   ],
   "source": [
    "os.environ['NFTBANK_API_KEY']"
   ]
  },
  {
   "cell_type": "code",
   "execution_count": 101,
   "id": "49bb192e",
   "metadata": {},
   "outputs": [],
   "source": [
    "r = requests.get(\"https://api.nftbank.ai/v3/estimated-price/ethereum/0xBC4CA0EdA7647A8aB7C2061c2E118A18a936f13D/1\",\n",
    "                 headers={\"Content-Type\":\"application/json\",\"x-api-key\": os.environ['NFTBANK_API_KEY']})\n",
    "estimated_prices = pd.DataFrame(r.json()['data'])"
   ]
  },
  {
   "cell_type": "code",
   "execution_count": 102,
   "id": "98aa6208",
   "metadata": {},
   "outputs": [
    {
     "data": {
      "text/html": [
       "<div>\n",
       "<style scoped>\n",
       "    .dataframe tbody tr th:only-of-type {\n",
       "        vertical-align: middle;\n",
       "    }\n",
       "\n",
       "    .dataframe tbody tr th {\n",
       "        vertical-align: top;\n",
       "    }\n",
       "\n",
       "    .dataframe thead th {\n",
       "        text-align: right;\n",
       "    }\n",
       "</style>\n",
       "<table border=\"1\" class=\"dataframe\">\n",
       "  <thead>\n",
       "    <tr style=\"text-align: right;\">\n",
       "      <th></th>\n",
       "      <th>estimatedPriceEth</th>\n",
       "      <th>processedAt</th>\n",
       "    </tr>\n",
       "  </thead>\n",
       "  <tbody>\n",
       "    <tr>\n",
       "      <th>0</th>\n",
       "      <td>6.611798461584999842</td>\n",
       "      <td>2021-06-20T00:00:00+00:00</td>\n",
       "    </tr>\n",
       "    <tr>\n",
       "      <th>1</th>\n",
       "      <td>7.921275819291296649</td>\n",
       "      <td>2021-06-21T00:00:00+00:00</td>\n",
       "    </tr>\n",
       "    <tr>\n",
       "      <th>2</th>\n",
       "      <td>8.970609863503627324</td>\n",
       "      <td>2021-06-22T00:00:00+00:00</td>\n",
       "    </tr>\n",
       "    <tr>\n",
       "      <th>3</th>\n",
       "      <td>9.297171682470940723</td>\n",
       "      <td>2021-06-23T00:00:00+00:00</td>\n",
       "    </tr>\n",
       "    <tr>\n",
       "      <th>4</th>\n",
       "      <td>9.828438635754995545</td>\n",
       "      <td>2021-06-24T00:00:00+00:00</td>\n",
       "    </tr>\n",
       "    <tr>\n",
       "      <th>...</th>\n",
       "      <td>...</td>\n",
       "      <td>...</td>\n",
       "    </tr>\n",
       "    <tr>\n",
       "      <th>428</th>\n",
       "      <td>161.983155772359566527</td>\n",
       "      <td>2022-08-22T00:00:00+00:00</td>\n",
       "    </tr>\n",
       "    <tr>\n",
       "      <th>429</th>\n",
       "      <td>150.283981363263904996</td>\n",
       "      <td>2022-08-23T00:00:00+00:00</td>\n",
       "    </tr>\n",
       "    <tr>\n",
       "      <th>430</th>\n",
       "      <td>161.099307011718053673</td>\n",
       "      <td>2022-08-24T00:00:00+00:00</td>\n",
       "    </tr>\n",
       "    <tr>\n",
       "      <th>431</th>\n",
       "      <td>145.419172745466170227</td>\n",
       "      <td>2022-08-25T00:00:00+00:00</td>\n",
       "    </tr>\n",
       "    <tr>\n",
       "      <th>432</th>\n",
       "      <td>142.053061854469916625</td>\n",
       "      <td>2022-08-26T00:00:00+00:00</td>\n",
       "    </tr>\n",
       "  </tbody>\n",
       "</table>\n",
       "<p>433 rows × 2 columns</p>\n",
       "</div>"
      ],
      "text/plain": [
       "          estimatedPriceEth                processedAt\n",
       "0      6.611798461584999842  2021-06-20T00:00:00+00:00\n",
       "1      7.921275819291296649  2021-06-21T00:00:00+00:00\n",
       "2      8.970609863503627324  2021-06-22T00:00:00+00:00\n",
       "3      9.297171682470940723  2021-06-23T00:00:00+00:00\n",
       "4      9.828438635754995545  2021-06-24T00:00:00+00:00\n",
       "..                      ...                        ...\n",
       "428  161.983155772359566527  2022-08-22T00:00:00+00:00\n",
       "429  150.283981363263904996  2022-08-23T00:00:00+00:00\n",
       "430  161.099307011718053673  2022-08-24T00:00:00+00:00\n",
       "431  145.419172745466170227  2022-08-25T00:00:00+00:00\n",
       "432  142.053061854469916625  2022-08-26T00:00:00+00:00\n",
       "\n",
       "[433 rows x 2 columns]"
      ]
     },
     "execution_count": 102,
     "metadata": {},
     "output_type": "execute_result"
    }
   ],
   "source": [
    "estimated_prices"
   ]
  },
  {
   "cell_type": "code",
   "execution_count": 103,
   "id": "965359c7",
   "metadata": {},
   "outputs": [],
   "source": [
    "r = requests.get(\"https://api.nftbank.ai/v3/floor-price/ethereum/0xBC4CA0EdA7647A8aB7C2061c2E118A18a936f13D\",\n",
    "                 headers={\"Content-Type\":\"application/json\",\"x-api-key\": os.environ['NFTBANK_API_KEY']})\n",
    "floor_prices = pd.DataFrame(r.json()['data'])"
   ]
  },
  {
   "cell_type": "code",
   "execution_count": 104,
   "id": "1cb71fc8",
   "metadata": {},
   "outputs": [
    {
     "data": {
      "text/html": [
       "<div>\n",
       "<style scoped>\n",
       "    .dataframe tbody tr th:only-of-type {\n",
       "        vertical-align: middle;\n",
       "    }\n",
       "\n",
       "    .dataframe tbody tr th {\n",
       "        vertical-align: top;\n",
       "    }\n",
       "\n",
       "    .dataframe thead th {\n",
       "        text-align: right;\n",
       "    }\n",
       "</style>\n",
       "<table border=\"1\" class=\"dataframe\">\n",
       "  <thead>\n",
       "    <tr style=\"text-align: right;\">\n",
       "      <th></th>\n",
       "      <th>floorPriceEth</th>\n",
       "      <th>processedAt</th>\n",
       "    </tr>\n",
       "  </thead>\n",
       "  <tbody>\n",
       "    <tr>\n",
       "      <th>311</th>\n",
       "      <td>69.879999999999995453</td>\n",
       "      <td>2022-08-22T00:00:00+00:00</td>\n",
       "    </tr>\n",
       "    <tr>\n",
       "      <th>312</th>\n",
       "      <td>67.890000000000000568</td>\n",
       "      <td>2022-08-23T00:00:00+00:00</td>\n",
       "    </tr>\n",
       "    <tr>\n",
       "      <th>313</th>\n",
       "      <td>66.989999999999994884</td>\n",
       "      <td>2022-08-24T00:00:00+00:00</td>\n",
       "    </tr>\n",
       "    <tr>\n",
       "      <th>314</th>\n",
       "      <td>74.489999999999994884</td>\n",
       "      <td>2022-08-25T00:00:00+00:00</td>\n",
       "    </tr>\n",
       "    <tr>\n",
       "      <th>315</th>\n",
       "      <td>76.489999999999994884</td>\n",
       "      <td>2022-08-26T00:00:00+00:00</td>\n",
       "    </tr>\n",
       "  </tbody>\n",
       "</table>\n",
       "</div>"
      ],
      "text/plain": [
       "             floorPriceEth                processedAt\n",
       "311  69.879999999999995453  2022-08-22T00:00:00+00:00\n",
       "312  67.890000000000000568  2022-08-23T00:00:00+00:00\n",
       "313  66.989999999999994884  2022-08-24T00:00:00+00:00\n",
       "314  74.489999999999994884  2022-08-25T00:00:00+00:00\n",
       "315  76.489999999999994884  2022-08-26T00:00:00+00:00"
      ]
     },
     "execution_count": 104,
     "metadata": {},
     "output_type": "execute_result"
    }
   ],
   "source": [
    "floor_prices.tail()"
   ]
  },
  {
   "cell_type": "code",
   "execution_count": 19,
   "id": "1153d62e",
   "metadata": {},
   "outputs": [],
   "source": [
    "cg = CoinGeckoAPI()"
   ]
  },
  {
   "cell_type": "code",
   "execution_count": 22,
   "id": "047ee93e",
   "metadata": {},
   "outputs": [
    {
     "name": "stdout",
     "output_type": "stream",
     "text": [
      "17446.3215245937\n"
     ]
    }
   ],
   "source": [
    "api_resp = cg.get_coin_history_by_id('bitcoin', date='30-12-2017', localization=False)\n",
    "price_in_aud = api_resp['market_data']['current_price']['aud']\n",
    "print(price_in_aud)"
   ]
  },
  {
   "cell_type": "code",
   "execution_count": 24,
   "id": "a603cca9",
   "metadata": {},
   "outputs": [],
   "source": [
    "api_resp = cg.get_coin_market_chart_by_id('ethereum', vs_currency='usd', days=365, interval='daily')"
   ]
  },
  {
   "cell_type": "code",
   "execution_count": 50,
   "id": "383ac702",
   "metadata": {},
   "outputs": [
    {
     "data": {
      "text/html": [
       "<div>\n",
       "<style scoped>\n",
       "    .dataframe tbody tr th:only-of-type {\n",
       "        vertical-align: middle;\n",
       "    }\n",
       "\n",
       "    .dataframe tbody tr th {\n",
       "        vertical-align: top;\n",
       "    }\n",
       "\n",
       "    .dataframe thead th {\n",
       "        text-align: right;\n",
       "    }\n",
       "</style>\n",
       "<table border=\"1\" class=\"dataframe\">\n",
       "  <thead>\n",
       "    <tr style=\"text-align: right;\">\n",
       "      <th></th>\n",
       "      <th>price_usd</th>\n",
       "    </tr>\n",
       "    <tr>\n",
       "      <th>datetime</th>\n",
       "      <th></th>\n",
       "    </tr>\n",
       "  </thead>\n",
       "  <tbody>\n",
       "    <tr>\n",
       "      <th>2021-08-27 02:00:00</th>\n",
       "      <td>3122.971797</td>\n",
       "    </tr>\n",
       "    <tr>\n",
       "      <th>2021-08-28 02:00:00</th>\n",
       "      <td>3267.539435</td>\n",
       "    </tr>\n",
       "    <tr>\n",
       "      <th>2021-08-29 02:00:00</th>\n",
       "      <td>3245.430222</td>\n",
       "    </tr>\n",
       "    <tr>\n",
       "      <th>2021-08-30 02:00:00</th>\n",
       "      <td>3233.383152</td>\n",
       "    </tr>\n",
       "    <tr>\n",
       "      <th>2021-08-31 02:00:00</th>\n",
       "      <td>3232.733863</td>\n",
       "    </tr>\n",
       "  </tbody>\n",
       "</table>\n",
       "</div>"
      ],
      "text/plain": [
       "                       price_usd\n",
       "datetime                        \n",
       "2021-08-27 02:00:00  3122.971797\n",
       "2021-08-28 02:00:00  3267.539435\n",
       "2021-08-29 02:00:00  3245.430222\n",
       "2021-08-30 02:00:00  3233.383152\n",
       "2021-08-31 02:00:00  3232.733863"
      ]
     },
     "execution_count": 50,
     "metadata": {},
     "output_type": "execute_result"
    }
   ],
   "source": [
    "prices = pd.DataFrame(api_resp['prices'],columns=['datetime','price_usd'])\n",
    "prices['datetime'] = prices['datetime'].apply(lambda x: datetime.datetime.fromtimestamp(x/1000))\n",
    "prices.set_index('datetime',inplace=True)\n",
    "prices.head()"
   ]
  },
  {
   "cell_type": "code",
   "execution_count": 29,
   "id": "2bec1f98",
   "metadata": {},
   "outputs": [
    {
     "data": {
      "text/plain": [
       "datetime.datetime(2022, 8, 26, 7, 50, 25)"
      ]
     },
     "execution_count": 29,
     "metadata": {},
     "output_type": "execute_result"
    }
   ],
   "source": [
    "datetime.datetime.fromtimestamp(1661493025000/1000)"
   ]
  },
  {
   "cell_type": "code",
   "execution_count": 45,
   "id": "1448a348",
   "metadata": {},
   "outputs": [
    {
     "ename": "ValueError",
     "evalue": "unconverted data remains: -11-17T00:00:00+00:00",
     "output_type": "error",
     "traceback": [
      "\u001b[1;31m---------------------------------------------------------------------------\u001b[0m",
      "\u001b[1;31mValueError\u001b[0m                                Traceback (most recent call last)",
      "Input \u001b[1;32mIn [45]\u001b[0m, in \u001b[0;36m<cell line: 2>\u001b[1;34m()\u001b[0m\n\u001b[0;32m      1\u001b[0m \u001b[38;5;66;03m# get price closest to '2021-11-17T00:00:00+00:00'\u001b[39;00m\n\u001b[1;32m----> 2\u001b[0m \u001b[43mdatetime\u001b[49m\u001b[38;5;241;43m.\u001b[39;49m\u001b[43mdatetime\u001b[49m\u001b[38;5;241;43m.\u001b[39;49m\u001b[43mstrptime\u001b[49m\u001b[43m(\u001b[49m\u001b[38;5;124;43m'\u001b[39;49m\u001b[38;5;124;43m2021-11-17T00:00:00+00:00\u001b[39;49m\u001b[38;5;124;43m'\u001b[39;49m\u001b[43m,\u001b[49m\u001b[38;5;124;43m'\u001b[39;49m\u001b[38;5;124;43m%\u001b[39;49m\u001b[38;5;124;43mY\u001b[39;49m\u001b[38;5;124;43m'\u001b[39;49m\u001b[43m)\u001b[49m\n",
      "File \u001b[1;32m~\\miniconda3\\envs\\sudoswap\\lib\\_strptime.py:568\u001b[0m, in \u001b[0;36m_strptime_datetime\u001b[1;34m(cls, data_string, format)\u001b[0m\n\u001b[0;32m    565\u001b[0m \u001b[38;5;28;01mdef\u001b[39;00m \u001b[38;5;21m_strptime_datetime\u001b[39m(\u001b[38;5;28mcls\u001b[39m, data_string, \u001b[38;5;28mformat\u001b[39m\u001b[38;5;241m=\u001b[39m\u001b[38;5;124m\"\u001b[39m\u001b[38;5;132;01m%a\u001b[39;00m\u001b[38;5;124m \u001b[39m\u001b[38;5;124m%\u001b[39m\u001b[38;5;124mb \u001b[39m\u001b[38;5;132;01m%d\u001b[39;00m\u001b[38;5;124m \u001b[39m\u001b[38;5;124m%\u001b[39m\u001b[38;5;124mH:\u001b[39m\u001b[38;5;124m%\u001b[39m\u001b[38;5;124mM:\u001b[39m\u001b[38;5;124m%\u001b[39m\u001b[38;5;124mS \u001b[39m\u001b[38;5;124m%\u001b[39m\u001b[38;5;124mY\u001b[39m\u001b[38;5;124m\"\u001b[39m):\n\u001b[0;32m    566\u001b[0m     \u001b[38;5;124;03m\"\"\"Return a class cls instance based on the input string and the\u001b[39;00m\n\u001b[0;32m    567\u001b[0m \u001b[38;5;124;03m    format string.\"\"\"\u001b[39;00m\n\u001b[1;32m--> 568\u001b[0m     tt, fraction, gmtoff_fraction \u001b[38;5;241m=\u001b[39m \u001b[43m_strptime\u001b[49m\u001b[43m(\u001b[49m\u001b[43mdata_string\u001b[49m\u001b[43m,\u001b[49m\u001b[43m \u001b[49m\u001b[38;5;28;43mformat\u001b[39;49m\u001b[43m)\u001b[49m\n\u001b[0;32m    569\u001b[0m     tzname, gmtoff \u001b[38;5;241m=\u001b[39m tt[\u001b[38;5;241m-\u001b[39m\u001b[38;5;241m2\u001b[39m:]\n\u001b[0;32m    570\u001b[0m     args \u001b[38;5;241m=\u001b[39m tt[:\u001b[38;5;241m6\u001b[39m] \u001b[38;5;241m+\u001b[39m (fraction,)\n",
      "File \u001b[1;32m~\\miniconda3\\envs\\sudoswap\\lib\\_strptime.py:352\u001b[0m, in \u001b[0;36m_strptime\u001b[1;34m(data_string, format)\u001b[0m\n\u001b[0;32m    349\u001b[0m     \u001b[38;5;28;01mraise\u001b[39;00m \u001b[38;5;167;01mValueError\u001b[39;00m(\u001b[38;5;124m\"\u001b[39m\u001b[38;5;124mtime data \u001b[39m\u001b[38;5;132;01m%r\u001b[39;00m\u001b[38;5;124m does not match format \u001b[39m\u001b[38;5;132;01m%r\u001b[39;00m\u001b[38;5;124m\"\u001b[39m \u001b[38;5;241m%\u001b[39m\n\u001b[0;32m    350\u001b[0m                      (data_string, \u001b[38;5;28mformat\u001b[39m))\n\u001b[0;32m    351\u001b[0m \u001b[38;5;28;01mif\u001b[39;00m \u001b[38;5;28mlen\u001b[39m(data_string) \u001b[38;5;241m!=\u001b[39m found\u001b[38;5;241m.\u001b[39mend():\n\u001b[1;32m--> 352\u001b[0m     \u001b[38;5;28;01mraise\u001b[39;00m \u001b[38;5;167;01mValueError\u001b[39;00m(\u001b[38;5;124m\"\u001b[39m\u001b[38;5;124munconverted data remains: \u001b[39m\u001b[38;5;132;01m%s\u001b[39;00m\u001b[38;5;124m\"\u001b[39m \u001b[38;5;241m%\u001b[39m\n\u001b[0;32m    353\u001b[0m                       data_string[found\u001b[38;5;241m.\u001b[39mend():])\n\u001b[0;32m    355\u001b[0m iso_year \u001b[38;5;241m=\u001b[39m year \u001b[38;5;241m=\u001b[39m \u001b[38;5;28;01mNone\u001b[39;00m\n\u001b[0;32m    356\u001b[0m month \u001b[38;5;241m=\u001b[39m day \u001b[38;5;241m=\u001b[39m \u001b[38;5;241m1\u001b[39m\n",
      "\u001b[1;31mValueError\u001b[0m: unconverted data remains: -11-17T00:00:00+00:00"
     ]
    }
   ],
   "source": [
    "# get price closest to '2021-11-17T00:00:00+00:00'\n",
    "datetime.datetime.strptime('2021-11-17T00:00:00+00:00','%Y')"
   ]
  },
  {
   "cell_type": "code",
   "execution_count": 35,
   "id": "d9fea65b",
   "metadata": {},
   "outputs": [],
   "source": [
    "def nearest(items, pivot):\n",
    "    return min(items, key=lambda x: abs(x - pivot))"
   ]
  },
  {
   "cell_type": "code",
   "execution_count": 54,
   "id": "41b25eba",
   "metadata": {},
   "outputs": [
    {
     "name": "stderr",
     "output_type": "stream",
     "text": [
      "C:\\Users\\gabri\\AppData\\Local\\Temp\\ipykernel_14800\\2610349290.py:1: FutureWarning: Indexing a timezone-naive DatetimeIndex with a timezone-aware datetime is deprecated and will raise KeyError in a future version.  Use a timezone-naive object instead.\n",
      "  prices.iloc[prices.index.get_loc(pd.Timestamp('2021-08-28T00:00:00+00:00').to_pydatetime(),method='nearest')]\n",
      "C:\\Users\\gabri\\AppData\\Local\\Temp\\ipykernel_14800\\2610349290.py:1: FutureWarning: Passing method to DatetimeIndex.get_loc is deprecated and will raise in a future version. Use index.get_indexer([item], method=...) instead.\n",
      "  prices.iloc[prices.index.get_loc(pd.Timestamp('2021-08-28T00:00:00+00:00').to_pydatetime(),method='nearest')]\n"
     ]
    },
    {
     "data": {
      "text/plain": [
       "price_usd    3267.539435\n",
       "Name: 2021-08-28 02:00:00, dtype: float64"
      ]
     },
     "execution_count": 54,
     "metadata": {},
     "output_type": "execute_result"
    }
   ],
   "source": [
    "prices.iloc[prices.index.get_loc(pd.Timestamp('2021-08-28T00:00:00+00:00').to_pydatetime(),method='nearest')]"
   ]
  },
  {
   "cell_type": "code",
   "execution_count": 52,
   "id": "50d7ebdb",
   "metadata": {},
   "outputs": [
    {
     "data": {
      "text/html": [
       "<div>\n",
       "<style scoped>\n",
       "    .dataframe tbody tr th:only-of-type {\n",
       "        vertical-align: middle;\n",
       "    }\n",
       "\n",
       "    .dataframe tbody tr th {\n",
       "        vertical-align: top;\n",
       "    }\n",
       "\n",
       "    .dataframe thead th {\n",
       "        text-align: right;\n",
       "    }\n",
       "</style>\n",
       "<table border=\"1\" class=\"dataframe\">\n",
       "  <thead>\n",
       "    <tr style=\"text-align: right;\">\n",
       "      <th></th>\n",
       "      <th>price_usd</th>\n",
       "    </tr>\n",
       "    <tr>\n",
       "      <th>datetime</th>\n",
       "      <th></th>\n",
       "    </tr>\n",
       "  </thead>\n",
       "  <tbody>\n",
       "    <tr>\n",
       "      <th>2021-08-27 02:00:00</th>\n",
       "      <td>3122.971797</td>\n",
       "    </tr>\n",
       "    <tr>\n",
       "      <th>2021-08-28 02:00:00</th>\n",
       "      <td>3267.539435</td>\n",
       "    </tr>\n",
       "    <tr>\n",
       "      <th>2021-08-29 02:00:00</th>\n",
       "      <td>3245.430222</td>\n",
       "    </tr>\n",
       "    <tr>\n",
       "      <th>2021-08-30 02:00:00</th>\n",
       "      <td>3233.383152</td>\n",
       "    </tr>\n",
       "    <tr>\n",
       "      <th>2021-08-31 02:00:00</th>\n",
       "      <td>3232.733863</td>\n",
       "    </tr>\n",
       "    <tr>\n",
       "      <th>...</th>\n",
       "      <td>...</td>\n",
       "    </tr>\n",
       "    <tr>\n",
       "      <th>2022-08-23 02:00:00</th>\n",
       "      <td>1622.307035</td>\n",
       "    </tr>\n",
       "    <tr>\n",
       "      <th>2022-08-24 02:00:00</th>\n",
       "      <td>1665.791907</td>\n",
       "    </tr>\n",
       "    <tr>\n",
       "      <th>2022-08-25 02:00:00</th>\n",
       "      <td>1657.793642</td>\n",
       "    </tr>\n",
       "    <tr>\n",
       "      <th>2022-08-26 02:00:00</th>\n",
       "      <td>1697.076972</td>\n",
       "    </tr>\n",
       "    <tr>\n",
       "      <th>2022-08-26 07:50:25</th>\n",
       "      <td>1663.818305</td>\n",
       "    </tr>\n",
       "  </tbody>\n",
       "</table>\n",
       "<p>366 rows × 1 columns</p>\n",
       "</div>"
      ],
      "text/plain": [
       "                       price_usd\n",
       "datetime                        \n",
       "2021-08-27 02:00:00  3122.971797\n",
       "2021-08-28 02:00:00  3267.539435\n",
       "2021-08-29 02:00:00  3245.430222\n",
       "2021-08-30 02:00:00  3233.383152\n",
       "2021-08-31 02:00:00  3232.733863\n",
       "...                          ...\n",
       "2022-08-23 02:00:00  1622.307035\n",
       "2022-08-24 02:00:00  1665.791907\n",
       "2022-08-25 02:00:00  1657.793642\n",
       "2022-08-26 02:00:00  1697.076972\n",
       "2022-08-26 07:50:25  1663.818305\n",
       "\n",
       "[366 rows x 1 columns]"
      ]
     },
     "execution_count": 52,
     "metadata": {},
     "output_type": "execute_result"
    }
   ],
   "source": [
    "prices"
   ]
  },
  {
   "cell_type": "code",
   "execution_count": 55,
   "id": "784b73aa",
   "metadata": {},
   "outputs": [],
   "source": [
    "### get price in eth, plot floor_price and estimate_price"
   ]
  },
  {
   "cell_type": "code",
   "execution_count": 79,
   "id": "daabab16",
   "metadata": {},
   "outputs": [
    {
     "data": {
      "text/html": [
       "<div>\n",
       "<style scoped>\n",
       "    .dataframe tbody tr th:only-of-type {\n",
       "        vertical-align: middle;\n",
       "    }\n",
       "\n",
       "    .dataframe tbody tr th {\n",
       "        vertical-align: top;\n",
       "    }\n",
       "\n",
       "    .dataframe thead th {\n",
       "        text-align: right;\n",
       "    }\n",
       "</style>\n",
       "<table border=\"1\" class=\"dataframe\">\n",
       "  <thead>\n",
       "    <tr style=\"text-align: right;\">\n",
       "      <th></th>\n",
       "      <th>dates</th>\n",
       "      <th>floor_price</th>\n",
       "      <th>estimated_price</th>\n",
       "      <th>cat</th>\n",
       "    </tr>\n",
       "  </thead>\n",
       "  <tbody>\n",
       "    <tr>\n",
       "      <th>0</th>\n",
       "      <td>2022-08-26 16:44:56.379999</td>\n",
       "      <td>1.0</td>\n",
       "      <td>4.0</td>\n",
       "      <td>a</td>\n",
       "    </tr>\n",
       "    <tr>\n",
       "      <th>1</th>\n",
       "      <td>2022-08-27 16:44:56.379999</td>\n",
       "      <td>5.5</td>\n",
       "      <td>12.0</td>\n",
       "      <td>a</td>\n",
       "    </tr>\n",
       "    <tr>\n",
       "      <th>2</th>\n",
       "      <td>2022-08-28 16:44:56.379999</td>\n",
       "      <td>10.0</td>\n",
       "      <td>20.0</td>\n",
       "      <td>a</td>\n",
       "    </tr>\n",
       "    <tr>\n",
       "      <th>0</th>\n",
       "      <td>2022-08-26 16:44:56.381953</td>\n",
       "      <td>10.0</td>\n",
       "      <td>44.0</td>\n",
       "      <td>b</td>\n",
       "    </tr>\n",
       "    <tr>\n",
       "      <th>1</th>\n",
       "      <td>2022-08-27 16:44:56.381953</td>\n",
       "      <td>15.0</td>\n",
       "      <td>132.0</td>\n",
       "      <td>b</td>\n",
       "    </tr>\n",
       "    <tr>\n",
       "      <th>2</th>\n",
       "      <td>2022-08-28 16:44:56.381953</td>\n",
       "      <td>20.0</td>\n",
       "      <td>220.0</td>\n",
       "      <td>b</td>\n",
       "    </tr>\n",
       "  </tbody>\n",
       "</table>\n",
       "</div>"
      ],
      "text/plain": [
       "                       dates  floor_price  estimated_price cat\n",
       "0 2022-08-26 16:44:56.379999          1.0              4.0   a\n",
       "1 2022-08-27 16:44:56.379999          5.5             12.0   a\n",
       "2 2022-08-28 16:44:56.379999         10.0             20.0   a\n",
       "0 2022-08-26 16:44:56.381953         10.0             44.0   b\n",
       "1 2022-08-27 16:44:56.381953         15.0            132.0   b\n",
       "2 2022-08-28 16:44:56.381953         20.0            220.0   b"
      ]
     },
     "execution_count": 79,
     "metadata": {},
     "output_type": "execute_result"
    }
   ],
   "source": [
    "n = 3\n",
    "df = pd.concat([pd.DataFrame(dict(dates=pd.date_range(start=datetime.datetime.today(),periods=n), \n",
    "                       floor_price=np.linspace(1,10,n),\n",
    "                      estimated_price=np.linspace(4,20,n), cat=['a']*n)),\n",
    "        pd.DataFrame(dict(dates=pd.date_range(start=datetime.datetime.today(),periods=n), \n",
    "                       floor_price=np.linspace(10,20,n),\n",
    "                      estimated_price=np.linspace(44,220,n), cat=['b']*n))])\n",
    "\n",
    "df"
   ]
  },
  {
   "cell_type": "code",
   "execution_count": 81,
   "id": "b1484753",
   "metadata": {},
   "outputs": [
    {
     "data": {
      "image/png": "[encoded data removed]",
      "text/plain": [
       "<Figure size 640x480 with 1 Axes>"
      ]
     },
     "metadata": {},
     "output_type": "display_data"
    }
   ],
   "source": [
    "fig = plt.figure()\n",
    "ax = fig.add_subplot(111)\n",
    "\n",
    "df[df.cat=='a'].plot(x='dates',y=['floor_price','estimated_price'],ax=ax)\n",
    "\n",
    "plt.show()"
   ]
  },
  {
   "cell_type": "code",
   "execution_count": 105,
   "id": "4d826df1",
   "metadata": {},
   "outputs": [
    {
     "data": {
      "text/html": [
       "<div>\n",
       "<style scoped>\n",
       "    .dataframe tbody tr th:only-of-type {\n",
       "        vertical-align: middle;\n",
       "    }\n",
       "\n",
       "    .dataframe tbody tr th {\n",
       "        vertical-align: top;\n",
       "    }\n",
       "\n",
       "    .dataframe thead th {\n",
       "        text-align: right;\n",
       "    }\n",
       "</style>\n",
       "<table border=\"1\" class=\"dataframe\">\n",
       "  <thead>\n",
       "    <tr style=\"text-align: right;\">\n",
       "      <th></th>\n",
       "      <th>floorPriceEth</th>\n",
       "      <th>processedAt</th>\n",
       "      <th>estimatedPriceEth</th>\n",
       "    </tr>\n",
       "  </thead>\n",
       "  <tbody>\n",
       "    <tr>\n",
       "      <th>311</th>\n",
       "      <td>69.879999999999995453</td>\n",
       "      <td>2022-08-22T00:00:00+00:00</td>\n",
       "      <td>161.983155772359566527</td>\n",
       "    </tr>\n",
       "    <tr>\n",
       "      <th>312</th>\n",
       "      <td>67.890000000000000568</td>\n",
       "      <td>2022-08-23T00:00:00+00:00</td>\n",
       "      <td>150.283981363263904996</td>\n",
       "    </tr>\n",
       "    <tr>\n",
       "      <th>313</th>\n",
       "      <td>66.989999999999994884</td>\n",
       "      <td>2022-08-24T00:00:00+00:00</td>\n",
       "      <td>161.099307011718053673</td>\n",
       "    </tr>\n",
       "    <tr>\n",
       "      <th>314</th>\n",
       "      <td>74.489999999999994884</td>\n",
       "      <td>2022-08-25T00:00:00+00:00</td>\n",
       "      <td>145.419172745466170227</td>\n",
       "    </tr>\n",
       "    <tr>\n",
       "      <th>315</th>\n",
       "      <td>76.489999999999994884</td>\n",
       "      <td>2022-08-26T00:00:00+00:00</td>\n",
       "      <td>142.053061854469916625</td>\n",
       "    </tr>\n",
       "  </tbody>\n",
       "</table>\n",
       "</div>"
      ],
      "text/plain": [
       "             floorPriceEth                processedAt       estimatedPriceEth\n",
       "311  69.879999999999995453  2022-08-22T00:00:00+00:00  161.983155772359566527\n",
       "312  67.890000000000000568  2022-08-23T00:00:00+00:00  150.283981363263904996\n",
       "313  66.989999999999994884  2022-08-24T00:00:00+00:00  161.099307011718053673\n",
       "314  74.489999999999994884  2022-08-25T00:00:00+00:00  145.419172745466170227\n",
       "315  76.489999999999994884  2022-08-26T00:00:00+00:00  142.053061854469916625"
      ]
     },
     "execution_count": 105,
     "metadata": {},
     "output_type": "execute_result"
    }
   ],
   "source": [
    "floor_prices.merge(estimated_prices, on='processedAt').tail()"
   ]
  },
  {
   "cell_type": "code",
   "execution_count": 106,
   "id": "cb7d9cad",
   "metadata": {},
   "outputs": [
    {
     "data": {
      "text/plain": [
       "False"
      ]
     },
     "execution_count": 106,
     "metadata": {},
     "output_type": "execute_result"
    }
   ],
   "source": [
    "estimated_prices.empty"
   ]
  },
  {
   "cell_type": "code",
   "execution_count": 124,
   "id": "8668f9d7",
   "metadata": {},
   "outputs": [],
   "source": [
    "nft_address = '0xBC4CA0EdA7647A8aB7C2061c2E118A18a936f13D'"
   ]
  },
  {
   "cell_type": "code",
   "execution_count": 121,
   "id": "551f6c5e",
   "metadata": {},
   "outputs": [
    {
     "data": {
      "text/plain": [
       "{'data': [{'estimatedPriceEth': '0.002400000000000000',\n",
       "   'processedAt': '2022-08-04T00:00:00+00:00'},\n",
       "  {'estimatedPriceEth': '0.002500000000000000',\n",
       "   'processedAt': '2022-08-05T00:00:00+00:00'},\n",
       "  {'estimatedPriceEth': '0.002000000000000000',\n",
       "   'processedAt': '2022-08-06T00:00:00+00:00'},\n",
       "  {'estimatedPriceEth': '0.002001627940977192',\n",
       "   'processedAt': '2022-08-07T00:00:00+00:00'},\n",
       "  {'estimatedPriceEth': '0.001750000000000000',\n",
       "   'processedAt': '2022-08-08T00:00:00+00:00'},\n",
       "  {'estimatedPriceEth': '0.001750000000000000',\n",
       "   'processedAt': '2022-08-09T00:00:00+00:00'},\n",
       "  {'estimatedPriceEth': '0.001774266577768515',\n",
       "   'processedAt': '2022-08-10T00:00:00+00:00'},\n",
       "  {'estimatedPriceEth': '0.001750000000000000',\n",
       "   'processedAt': '2022-08-11T00:00:00+00:00'},\n",
       "  {'estimatedPriceEth': '0.002030504619304032',\n",
       "   'processedAt': '2022-08-12T00:00:00+00:00'},\n",
       "  {'estimatedPriceEth': '0.001835120307203371',\n",
       "   'processedAt': '2022-08-13T00:00:00+00:00'},\n",
       "  {'estimatedPriceEth': '0.002038270508144758',\n",
       "   'processedAt': '2022-08-14T00:00:00+00:00'},\n",
       "  {'estimatedPriceEth': '0.001870753647416199',\n",
       "   'processedAt': '2022-08-15T00:00:00+00:00'},\n",
       "  {'estimatedPriceEth': '0.001457288595532405',\n",
       "   'processedAt': '2022-08-16T00:00:00+00:00'},\n",
       "  {'estimatedPriceEth': '0.001512444259970680',\n",
       "   'processedAt': '2022-08-17T00:00:00+00:00'},\n",
       "  {'estimatedPriceEth': '0.001750000000000000',\n",
       "   'processedAt': '2022-08-18T00:00:00+00:00'},\n",
       "  {'estimatedPriceEth': '0.001750000000000000',\n",
       "   'processedAt': '2022-08-19T00:00:00+00:00'},\n",
       "  {'estimatedPriceEth': '0.002040013491172442',\n",
       "   'processedAt': '2022-08-20T00:00:00+00:00'},\n",
       "  {'estimatedPriceEth': '0.002600063926999265',\n",
       "   'processedAt': '2022-08-21T00:00:00+00:00'},\n",
       "  {'estimatedPriceEth': '0.002660649939812416',\n",
       "   'processedAt': '2022-08-22T00:00:00+00:00'},\n",
       "  {'estimatedPriceEth': '0.003026276991574943',\n",
       "   'processedAt': '2022-08-23T00:00:00+00:00'},\n",
       "  {'estimatedPriceEth': '0.002313290507103496',\n",
       "   'processedAt': '2022-08-24T00:00:00+00:00'},\n",
       "  {'estimatedPriceEth': '0.003601190121968183',\n",
       "   'processedAt': '2022-08-25T00:00:00+00:00'},\n",
       "  {'estimatedPriceEth': '0.003517831063728161',\n",
       "   'processedAt': '2022-08-26T00:00:00+00:00'}],\n",
       " 'message': 'OK',\n",
       " 'statusCode': 20000}"
      ]
     },
     "execution_count": 121,
     "metadata": {},
     "output_type": "execute_result"
    }
   ],
   "source": [
    "r = requests.get(f\"https://api.nftbank.ai/v3/estimated-price/ethereum/{nft_address}/1\",\n",
    "                 headers={\"Content-Type\":\"application/json\",\"x-api-key\": os.environ['NFTBANK_API_KEY']})\n",
    "r.json()\n",
    "#estimated_prices = pd.DataFrame(r.json()['data'])"
   ]
  },
  {
   "cell_type": "code",
   "execution_count": 128,
   "id": "a6423c99",
   "metadata": {},
   "outputs": [],
   "source": [
    "def get_floor_estimated_prices(nft_address):\n",
    "        \n",
    "        # estimated\n",
    "        r = requests.get(f\"https://api.nftbank.ai/v3/estimated-price/ethereum/{nft_address}/1\",\n",
    "                 headers={\"Content-Type\":\"application/json\",\"x-api-key\": os.environ['NFTBANK_API_KEY']})\n",
    "        estimated_prices = pd.DataFrame(r.json()['data'])\n",
    "        \n",
    "\n",
    "        # floor\n",
    "        r = requests.get(f\"https://api.nftbank.ai/v3/floor-price/ethereum/{nft_address}\",\n",
    "                 headers={\"Content-Type\":\"application/json\",\"x-api-key\": os.environ['NFTBANK_API_KEY']})\n",
    "        \n",
    "        floor_prices = pd.DataFrame(r.json()['data'])\n",
    "\n",
    "        print (f'est {estimated_prices} floor {floor_prices}')\n",
    "        \n",
    "        if estimated_prices.empty and floor_prices.empty:\n",
    "            return pd.DataFrame()\n",
    "        elif estimated_prices.empty:\n",
    "            return floor_prices\n",
    "        elif floor_prices.empty:\n",
    "            return estimated_prices\n",
    "        else:\n",
    "            df = floor_prices.merge(estimated_prices, on='processedAt')\n",
    "            return df\n",
    "        \n",
    "        print (f'df {df}')\n",
    "        return df"
   ]
  },
  {
   "cell_type": "code",
   "execution_count": 129,
   "id": "87c00f20",
   "metadata": {},
   "outputs": [
    {
     "name": "stdout",
     "output_type": "stream",
     "text": [
      "est           estimatedPriceEth                processedAt\n",
      "0      6.611798461584999842  2021-06-20T00:00:00+00:00\n",
      "1      7.921275819291296649  2021-06-21T00:00:00+00:00\n",
      "2      8.970609863503627324  2021-06-22T00:00:00+00:00\n",
      "3      9.297171682470940723  2021-06-23T00:00:00+00:00\n",
      "4      9.828438635754995545  2021-06-24T00:00:00+00:00\n",
      "..                      ...                        ...\n",
      "428  161.983155772359566527  2022-08-22T00:00:00+00:00\n",
      "429  150.283981363263904996  2022-08-23T00:00:00+00:00\n",
      "430  161.099307011718053673  2022-08-24T00:00:00+00:00\n",
      "431  145.419172745466170227  2022-08-25T00:00:00+00:00\n",
      "432  142.053061854469916625  2022-08-26T00:00:00+00:00\n",
      "\n",
      "[433 rows x 2 columns] floor              floorPriceEth                processedAt\n",
      "0    36.500000000000000000  2021-10-15T00:00:00+00:00\n",
      "1    36.000000000000000000  2021-10-16T00:00:00+00:00\n",
      "2    35.100000000000001421  2021-10-17T00:00:00+00:00\n",
      "3    36.000000000000000000  2021-10-18T00:00:00+00:00\n",
      "4    35.679999999999999716  2021-10-19T00:00:00+00:00\n",
      "..                     ...                        ...\n",
      "311  69.879999999999995453  2022-08-22T00:00:00+00:00\n",
      "312  67.890000000000000568  2022-08-23T00:00:00+00:00\n",
      "313  66.989999999999994884  2022-08-24T00:00:00+00:00\n",
      "314  74.489999999999994884  2022-08-25T00:00:00+00:00\n",
      "315  76.489999999999994884  2022-08-26T00:00:00+00:00\n",
      "\n",
      "[316 rows x 2 columns]\n"
     ]
    }
   ],
   "source": [
    "df = get_floor_estimated_prices(nft_address)"
   ]
  },
  {
   "cell_type": "code",
   "execution_count": 130,
   "id": "e066fbac",
   "metadata": {},
   "outputs": [
    {
     "data": {
      "text/html": [
       "<div>\n",
       "<style scoped>\n",
       "    .dataframe tbody tr th:only-of-type {\n",
       "        vertical-align: middle;\n",
       "    }\n",
       "\n",
       "    .dataframe tbody tr th {\n",
       "        vertical-align: top;\n",
       "    }\n",
       "\n",
       "    .dataframe thead th {\n",
       "        text-align: right;\n",
       "    }\n",
       "</style>\n",
       "<table border=\"1\" class=\"dataframe\">\n",
       "  <thead>\n",
       "    <tr style=\"text-align: right;\">\n",
       "      <th></th>\n",
       "      <th>floorPriceEth</th>\n",
       "      <th>processedAt</th>\n",
       "      <th>estimatedPriceEth</th>\n",
       "    </tr>\n",
       "  </thead>\n",
       "  <tbody>\n",
       "    <tr>\n",
       "      <th>0</th>\n",
       "      <td>36.500000000000000000</td>\n",
       "      <td>2021-10-15T00:00:00+00:00</td>\n",
       "      <td>158.830904363949116487</td>\n",
       "    </tr>\n",
       "    <tr>\n",
       "      <th>1</th>\n",
       "      <td>36.000000000000000000</td>\n",
       "      <td>2021-10-16T00:00:00+00:00</td>\n",
       "      <td>155.644736604860923990</td>\n",
       "    </tr>\n",
       "    <tr>\n",
       "      <th>2</th>\n",
       "      <td>35.100000000000001421</td>\n",
       "      <td>2021-10-17T00:00:00+00:00</td>\n",
       "      <td>155.671016711220261186</td>\n",
       "    </tr>\n",
       "    <tr>\n",
       "      <th>3</th>\n",
       "      <td>36.000000000000000000</td>\n",
       "      <td>2021-10-18T00:00:00+00:00</td>\n",
       "      <td>156.100347032366954636</td>\n",
       "    </tr>\n",
       "    <tr>\n",
       "      <th>4</th>\n",
       "      <td>35.679999999999999716</td>\n",
       "      <td>2021-10-19T00:00:00+00:00</td>\n",
       "      <td>155.910466361217913800</td>\n",
       "    </tr>\n",
       "    <tr>\n",
       "      <th>...</th>\n",
       "      <td>...</td>\n",
       "      <td>...</td>\n",
       "      <td>...</td>\n",
       "    </tr>\n",
       "    <tr>\n",
       "      <th>311</th>\n",
       "      <td>69.879999999999995453</td>\n",
       "      <td>2022-08-22T00:00:00+00:00</td>\n",
       "      <td>161.983155772359566527</td>\n",
       "    </tr>\n",
       "    <tr>\n",
       "      <th>312</th>\n",
       "      <td>67.890000000000000568</td>\n",
       "      <td>2022-08-23T00:00:00+00:00</td>\n",
       "      <td>150.283981363263904996</td>\n",
       "    </tr>\n",
       "    <tr>\n",
       "      <th>313</th>\n",
       "      <td>66.989999999999994884</td>\n",
       "      <td>2022-08-24T00:00:00+00:00</td>\n",
       "      <td>161.099307011718053673</td>\n",
       "    </tr>\n",
       "    <tr>\n",
       "      <th>314</th>\n",
       "      <td>74.489999999999994884</td>\n",
       "      <td>2022-08-25T00:00:00+00:00</td>\n",
       "      <td>145.419172745466170227</td>\n",
       "    </tr>\n",
       "    <tr>\n",
       "      <th>315</th>\n",
       "      <td>76.489999999999994884</td>\n",
       "      <td>2022-08-26T00:00:00+00:00</td>\n",
       "      <td>142.053061854469916625</td>\n",
       "    </tr>\n",
       "  </tbody>\n",
       "</table>\n",
       "<p>316 rows × 3 columns</p>\n",
       "</div>"
      ],
      "text/plain": [
       "             floorPriceEth                processedAt       estimatedPriceEth\n",
       "0    36.500000000000000000  2021-10-15T00:00:00+00:00  158.830904363949116487\n",
       "1    36.000000000000000000  2021-10-16T00:00:00+00:00  155.644736604860923990\n",
       "2    35.100000000000001421  2021-10-17T00:00:00+00:00  155.671016711220261186\n",
       "3    36.000000000000000000  2021-10-18T00:00:00+00:00  156.100347032366954636\n",
       "4    35.679999999999999716  2021-10-19T00:00:00+00:00  155.910466361217913800\n",
       "..                     ...                        ...                     ...\n",
       "311  69.879999999999995453  2022-08-22T00:00:00+00:00  161.983155772359566527\n",
       "312  67.890000000000000568  2022-08-23T00:00:00+00:00  150.283981363263904996\n",
       "313  66.989999999999994884  2022-08-24T00:00:00+00:00  161.099307011718053673\n",
       "314  74.489999999999994884  2022-08-25T00:00:00+00:00  145.419172745466170227\n",
       "315  76.489999999999994884  2022-08-26T00:00:00+00:00  142.053061854469916625\n",
       "\n",
       "[316 rows x 3 columns]"
      ]
     },
     "execution_count": 130,
     "metadata": {},
     "output_type": "execute_result"
    }
   ],
   "source": [
    "df"
   ]
  },
  {
   "cell_type": "code",
   "execution_count": null,
   "id": "41f79f3f",
   "metadata": {},
   "outputs": [],
   "source": [
    "get"
   ]
  }
 ],
 "metadata": {
  "kernelspec": {
   "display_name": "Python 3 (ipykernel)",
   "language": "python",
   "name": "python3"
  },
  "language_info": {
   "codemirror_mode": {
    "name": "ipython",
    "version": 3
   },
   "file_extension": ".py",
   "mimetype": "text/x-python",
   "name": "python",
   "nbconvert_exporter": "python",
   "pygments_lexer": "ipython3",
   "version": "3.9.12"
  }
 },
 "nbformat": 4,
 "nbformat_minor": 5
}
