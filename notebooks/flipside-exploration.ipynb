{
 "cells": [
  {
   "cell_type": "code",
   "execution_count": 42,
   "id": "349dee8c",
   "metadata": {},
   "outputs": [
    {
     "data": {
      "text/plain": [
       "True"
      ]
     },
     "execution_count": 42,
     "metadata": {},
     "output_type": "execute_result"
    }
   ],
   "source": [
    "import requests\n",
    "from shroomdk import ShroomDK\n",
    "import datetime\n",
    "import os\n",
    "import pandas as pd\n",
    "import dotenv\n",
    "dotenv.load_dotenv('../.env')"
   ]
  },
  {
   "cell_type": "code",
   "execution_count": 3,
   "id": "85601eba",
   "metadata": {},
   "outputs": [],
   "source": [
    "# Initialize `ShroomDK` with your API Key\n",
    "sdk = ShroomDK(os.environ['FLIPSIDE_API_KEY'])"
   ]
  },
  {
   "cell_type": "code",
   "execution_count": 45,
   "id": "4ad8efa9",
   "metadata": {},
   "outputs": [],
   "source": [
    "day_before_yesterday = datetime.datetime.now() - datetime.timedelta(days=2)\n",
    "sql = f\"\"\"\n",
    "        select *\n",
    "        from ethereum.core.ez_nft_sales\n",
    "        where 1=1\n",
    "        and platform_name = 'sudoswap'\n",
    "        --and block_timestamp >= '{day_before_yesterday.strftime('%Y-%m-%d %H:%M:%S')}'\n",
    "        order by block_timestamp desc;\n",
    "        \"\"\""
   ]
  },
  {
   "cell_type": "code",
   "execution_count": 46,
   "id": "7b37a997",
   "metadata": {},
   "outputs": [],
   "source": [
    "query_result_set = sdk.query(sql)"
   ]
  },
  {
   "cell_type": "code",
   "execution_count": 48,
   "id": "f9aa82c0",
   "metadata": {},
   "outputs": [],
   "source": [
    "df = pd.DataFrame(query_result_set.records)"
   ]
  },
  {
   "cell_type": "code",
   "execution_count": 55,
   "id": "16c700ca",
   "metadata": {},
   "outputs": [],
   "source": [
    "df.token_metadata.values[-2]"
   ]
  },
  {
   "cell_type": "code",
   "execution_count": null,
   "id": "53919ab0",
   "metadata": {},
   "outputs": [],
   "source": []
  }
 ],
 "metadata": {
  "kernelspec": {
   "display_name": "Python 3 (ipykernel)",
   "language": "python",
   "name": "python3"
  },
  "language_info": {
   "codemirror_mode": {
    "name": "ipython",
    "version": 3
   },
   "file_extension": ".py",
   "mimetype": "text/x-python",
   "name": "python",
   "nbconvert_exporter": "python",
   "pygments_lexer": "ipython3",
   "version": "3.9.12"
  }
 },
 "nbformat": 4,
 "nbformat_minor": 5
}
